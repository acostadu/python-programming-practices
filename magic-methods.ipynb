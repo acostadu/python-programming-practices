{
 "cells": [
  {
   "cell_type": "markdown",
   "metadata": {},
   "source": [
    "## Simple class\n",
    "Starting with the most important component that will really make it OOP is by defining class. class is basically a template to create objects. Think of a Pizza class that will tell the ingredients, types, size, etc. A simple class would look like:"
   ]
  },
  {
   "cell_type": "code",
   "execution_count": 1,
   "metadata": {},
   "outputs": [
    {
     "data": {
      "text/plain": [
       "'This is a Pizza class!'"
      ]
     },
     "execution_count": 1,
     "metadata": {},
     "output_type": "execute_result"
    }
   ],
   "source": [
    "class Pizza:\n",
    "\n",
    "    # Class attribute:\n",
    "    info = \"This is a Pizza class!\"\n",
    "\n",
    "# Instantiate the class:\n",
    "obj = Pizza()\n",
    "\n",
    "# Accessing the attribute:\n",
    "obj.info"
   ]
  },
  {
   "cell_type": "markdown",
   "metadata": {},
   "source": [
    "## \\__init\\__\n",
    "Is the initializer method that is run as soon as we call the class. Here type_ variable was assigned the value “veggie” as soon as the class was initiated."
   ]
  },
  {
   "cell_type": "code",
   "execution_count": 2,
   "metadata": {},
   "outputs": [
    {
     "name": "stdout",
     "output_type": "stream",
     "text": [
      "I want a veggie pizza\n"
     ]
    }
   ],
   "source": [
    "class Pizza:\n",
    "\n",
    "    # Class attribute:\n",
    "    info = \"This is a Pizza class!\"\n",
    "\n",
    "    # instance attribute:\n",
    "    def __init__(self, type_):\n",
    "        self.type_ = type_ \n",
    "\n",
    "\n",
    "# Instantiate the class:\n",
    "obj = Pizza(type_ = 'veggie')\n",
    "\n",
    "# Accessing the attribute:\n",
    "print(f\"I want a {obj.type_} pizza\")"
   ]
  },
  {
   "cell_type": "markdown",
   "metadata": {},
   "source": [
    "## \\__call__ \n",
    "Is run as soon as a method is called. It basically takes action once the object is initiated. __call__ is useful when an instance needs to often change state."
   ]
  },
  {
   "cell_type": "code",
   "execution_count": 3,
   "metadata": {},
   "outputs": [
    {
     "name": "stdout",
     "output_type": "stream",
     "text": [
      "Submitting a veggie pizza order with change of shape ---- square\n"
     ]
    }
   ],
   "source": [
    "class Pizza:\n",
    "\n",
    "    # Class attribute:\n",
    "    info = \"This is a Pizza class!\"\n",
    "\n",
    "    # instance attribute:\n",
    "    def __init__(self, type_):\n",
    "        self.type_ = type_ \n",
    "        self.shape = 'round'\n",
    "\n",
    "    # instance method:\n",
    "    def __call__(self, shape = None):\n",
    "        if shape:\n",
    "            self.shape = shape\n",
    "            return print(f\"Submitting a {self.type_} pizza order with change of shape ---- {self.shape}\")\n",
    "        else:\n",
    "            print(f\"Submitting a {self.type_} pizza order with default shape ---- {self.shape}\")\n",
    "\n",
    "\n",
    "# Instantiate the class:\n",
    "obj = Pizza(type_ = 'veggie')\n",
    "\n",
    "# Calling the class:\n",
    "obj('square')"
   ]
  },
  {
   "cell_type": "markdown",
   "metadata": {},
   "source": [
    "## \\__repr__ \n",
    "Is mainly used to see the values assigned to our variables. It can be defined as below:"
   ]
  },
  {
   "cell_type": "code",
   "execution_count": 4,
   "metadata": {},
   "outputs": [
    {
     "data": {
      "text/plain": [
       "Type : veggie, Shape : round"
      ]
     },
     "execution_count": 4,
     "metadata": {},
     "output_type": "execute_result"
    }
   ],
   "source": [
    "class Pizza:\n",
    "\n",
    "    # Class attribute:\n",
    "    info = \"This is a Pizza class!\"\n",
    "\n",
    "    # instance attribute:\n",
    "    def __init__(self, type_):\n",
    "        self.type_ = type_ \n",
    "        self.shape = 'round'\n",
    "\n",
    "    # instance method:\n",
    "    def __repr__(self):\n",
    "        return f\"Type : {self.type_}, Shape : {self.shape}\"\n",
    "\n",
    "\n",
    "# Instantiate the class:\n",
    "obj = Pizza(type_ = 'veggie')\n",
    "\n",
    "# Calling the class:\n",
    "obj"
   ]
  },
  {
   "cell_type": "markdown",
   "metadata": {},
   "source": [
    "## \\_\\_str\\_\\_ \n",
    "Is quite similar to \\_\\_repr\\_\\_ above. \\_\\_str\\_\\_ can be overridden and allows more customization unless like repr which cannot be."
   ]
  },
  {
   "cell_type": "code",
   "execution_count": 5,
   "metadata": {},
   "outputs": [
    {
     "name": "stdout",
     "output_type": "stream",
     "text": [
      "Type : veggie, Shape : round\n"
     ]
    }
   ],
   "source": [
    "class Pizza:\n",
    "\n",
    "    # Class attribute:\n",
    "    info = \"This is a Pizza class!\"\n",
    "\n",
    "    # instance attribute:\n",
    "    def __init__(self, type_):\n",
    "        self.type_ = type_ \n",
    "        self.shape = 'round'\n",
    "\n",
    "    # instance method:\n",
    "    def __str__(self):\n",
    "        return f\"Type : {self.type_}, Shape : {self.shape}\"\n",
    "\n",
    "\n",
    "# Instantiate the class:\n",
    "obj = Pizza(type_ = 'veggie')\n",
    "\n",
    "# Print the class:\n",
    "print(obj)"
   ]
  },
  {
   "cell_type": "markdown",
   "metadata": {},
   "source": [
    "## \\_\\_dict\\_\\_\n",
    "Python has an internal dictionary called \\_\\_dict\\_\\_ that holds all the internal variables. It is a simple way to inspect the internal details of the variables."
   ]
  },
  {
   "cell_type": "code",
   "execution_count": 6,
   "metadata": {},
   "outputs": [
    {
     "data": {
      "text/plain": [
       "{'type_': 'veggie', 'size': 'small', 'shape': 'round'}"
      ]
     },
     "execution_count": 6,
     "metadata": {},
     "output_type": "execute_result"
    }
   ],
   "source": [
    "class Pizza:\n",
    "\n",
    "    # Class attribute:\n",
    "    info = \"This is a Pizza class!\"\n",
    "\n",
    "    # instance attribute:\n",
    "    def __init__(self, type_, size):\n",
    "        self.type_ = type_\n",
    "        self.size = size \n",
    "        self.shape = 'round'\n",
    "\n",
    "# Instantiate the class:\n",
    "obj = Pizza(type_ = 'veggie', size = 'small')\n",
    "\n",
    "# Pring the dict:\n",
    "obj.__dict__"
   ]
  },
  {
   "cell_type": "markdown",
   "metadata": {},
   "source": [
    "## \\_\\_slots\\_\\_\n",
    "Is quite similar to \\_\\_dict\\_\\_ as shown above. This is one of the best features, often unused by the Python community. If the data is passed to \\_\\_init\\_\\_ and used mainly for storing data, \\_\\_slots\\_\\_ can help to optimize the performance of the class. Below is how to use it:"
   ]
  },
  {
   "cell_type": "code",
   "execution_count": 8,
   "metadata": {},
   "outputs": [],
   "source": [
    "class Pizza:\n",
    "\n",
    "    # Class attribute:\n",
    "    info = \"This is a Pizza class!\"\n",
    "\n",
    "    # Defining slots:\n",
    "    __slots__ = ['type_', 'size', 'shape']\n",
    "\n",
    "    # instance attribute:\n",
    "    def __init__(self, type_, size):\n",
    "        self.type_ = type_\n",
    "        self.size = size \n",
    "        self.shape = 'round'\n",
    "\n",
    "# Instantiate the class:\n",
    "obj = Pizza(type_ = 'veggie', size = 'small')"
   ]
  },
  {
   "cell_type": "markdown",
   "metadata": {},
   "source": [
    "## static method:\n",
    "We saw briefly how we can create methods to get a specific task done. Some methods, do not need to be modified or pass any class argument necessarily, to be used. It makes sense for them to be part of the class but not the object of the class. In other words, they know nothing about the class state. Such methods are known as static method. Below is a small example:"
   ]
  },
  {
   "cell_type": "code",
   "execution_count": 9,
   "metadata": {},
   "outputs": [
    {
     "data": {
      "text/plain": [
       "['onions', 'pepper', 'olives', 'jalapeneos', 'mushrooms']"
      ]
     },
     "execution_count": 9,
     "metadata": {},
     "output_type": "execute_result"
    }
   ],
   "source": [
    "class Pizza:\n",
    "\n",
    "    # Class attribute:\n",
    "    info = \"This is a Pizza class!\"\n",
    "\n",
    "    # Defining slots:\n",
    "    __slots__ = ['type_', 'size', 'shape']\n",
    "\n",
    "    # instance attribute:\n",
    "    def __init__(self, type_, size):\n",
    "        self.type_ = type_\n",
    "        self.size = size \n",
    "        self.shape = 'round'\n",
    "    \n",
    "    @staticmethod\n",
    "    def get_veggie_ingredients():\n",
    "        list_ingredients = ['onions','pepper','olives','jalapeneos', 'mushrooms']\n",
    "        return list_ingredients\n",
    "\n",
    "# Get the static method without inititaing the class:\n",
    "Pizza.get_veggie_ingredients()"
   ]
  },
  {
   "cell_type": "markdown",
   "metadata": {},
   "source": [
    "## class method:\n",
    "The class method is different from the static method. Here, the class method can access or modify class state. We pass cls as an argument that points to the class and not the object instance — when the method is called."
   ]
  },
  {
   "cell_type": "code",
   "execution_count": 10,
   "metadata": {},
   "outputs": [
    {
     "name": "stdout",
     "output_type": "stream",
     "text": [
      "veggie Pizza ordered of medium and round\n"
     ]
    }
   ],
   "source": [
    "class Pizza:\n",
    "\n",
    "    # Class attribute:\n",
    "    info = \"This is a Pizza class!\"\n",
    "\n",
    "    # Defining slots:\n",
    "    __slots__ = ['type_', 'size', 'shape']\n",
    "\n",
    "    # instance attribute:\n",
    "    def __init__(self, type_, size, shape = 'round'):\n",
    "        self.type_ = type_\n",
    "        self.size = size \n",
    "        self.shape = shape\n",
    "    \n",
    "    @staticmethod\n",
    "    def get_veggie_ingredients():\n",
    "        list_ingredients = ['onions','pepper','olives','jalapeneos', 'mushrooms']\n",
    "        return list_ingredients\n",
    "\n",
    "    @classmethod\n",
    "    def determine_size(cls, type_, size, shape):\n",
    "        if size<=14:\n",
    "            return cls(type_, 'medium', shape)\n",
    "        else:\n",
    "            return cls(type_, 'large', shape)\n",
    "\n",
    "\n",
    "# Instantiate the class:\n",
    "obj = Pizza.determine_size(type_ = 'veggie', size = 12, shape = 'round')\n",
    "print(f\"{obj.type_} Pizza ordered of {obj.size} and {obj.shape}\")"
   ]
  },
  {
   "cell_type": "markdown",
   "metadata": {},
   "source": [
    "## Conclusion:\n",
    "These are some of the important aspects that I’ve learned over a period of time. If one wants to really write better Python code, it is important to understand and implement these “best practices”. It might be difficult to understand in the first place, but the more you code and try to use them the more clear you will understand their importance. Best practices help in the long-term maintainability of the codebase. A good foundation laid integrating good design principles will not only make future development easier but also help other users/team members to reuse or do advancements using the same code."
   ]
  },
  {
   "cell_type": "markdown",
   "metadata": {},
   "source": [
    "## References:\n",
    "https://towardsdatascience.com/python-programming-concepts-that-made-my-code-efficient-68f92f8a39d0"
   ]
  }
 ],
 "metadata": {
  "kernelspec": {
   "display_name": "Python 3",
   "language": "python",
   "name": "python3"
  },
  "language_info": {
   "codemirror_mode": {
    "name": "ipython",
    "version": 3
   },
   "file_extension": ".py",
   "mimetype": "text/x-python",
   "name": "python",
   "nbconvert_exporter": "python",
   "pygments_lexer": "ipython3",
   "version": "3.8.2"
  }
 },
 "nbformat": 4,
 "nbformat_minor": 4
}
